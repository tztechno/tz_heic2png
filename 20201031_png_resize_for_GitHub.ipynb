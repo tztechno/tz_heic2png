{
 "cells": [
  {
   "cell_type": "code",
   "execution_count": 1,
   "metadata": {},
   "outputs": [
    {
     "name": "stdout",
     "output_type": "stream",
     "text": [
      "\n"
     ]
    }
   ],
   "source": [
    "import os\n",
    "import subprocess\n",
    "from PIL import Image\n",
    "\n",
    "dir0 ='org'\n",
    "dir1 = 'png'\n",
    "dir2 = 'png_resize'\n",
    "\n",
    "files0 = os.listdir(dir0)\n",
    "files0.sort()\n",
    "\n",
    "for file in files0:\n",
    "\n",
    "    if '.HEIC'  in file:        \n",
    "        command = 'sips --setProperty format png ' + dir0 +'/' + file +  ' --out ' + dir1 +'/' +  file.replace('.HEIC','.png') \n",
    "        subprocess.call(command, shell=True)\n",
    "        print(file) \n",
    "        \n",
    "files1 = os.listdir(dir1)\n",
    "files1.sort()\n",
    "print('')\n",
    "\n",
    "for file in files1:\n",
    "    \n",
    "    if '.png' in file:   \n",
    "        img0 = os.path.join(dir1, file)\n",
    "        img0_img = Image.open(img0)\n",
    "        img1_img = img0_img.resize((300,300)) \n",
    "        img1 = os.path.join(dir2, file) \n",
    "        img1_img.save(img1)\n",
    "        print(file)\n",
    "    "
   ]
  }
 ],
 "metadata": {
  "kernelspec": {
   "display_name": "Python 3",
   "language": "python",
   "name": "python3"
  },
  "language_info": {
   "codemirror_mode": {
    "name": "ipython",
    "version": 3
   },
   "file_extension": ".py",
   "mimetype": "text/x-python",
   "name": "python",
   "nbconvert_exporter": "python",
   "pygments_lexer": "ipython3",
   "version": "3.7.7"
  }
 },
 "nbformat": 4,
 "nbformat_minor": 4
}
